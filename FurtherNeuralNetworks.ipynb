{
  "cells": [
    {
      "cell_type": "markdown",
      "metadata": {
        "id": "view-in-github",
        "colab_type": "text"
      },
      "source": [
        "<a href=\"https://colab.research.google.com/github/RejiAlengaden/ADS2002-rale0010/blob/main/FurtherNeuralNetworks.ipynb\" target=\"_parent\"><img src=\"https://colab.research.google.com/assets/colab-badge.svg\" alt=\"Open In Colab\"/></a>"
      ]
    },
    {
      "cell_type": "markdown",
      "metadata": {
        "id": "D7yCkG9n5dea"
      },
      "source": [
        "# Neural Networks - Part 3"
      ]
    },
    {
      "cell_type": "markdown",
      "metadata": {
        "id": "fJezGsVR5dea"
      },
      "source": [
        "### Contents\n",
        "\n",
        "* MNIST\n",
        "* Sequential API\n",
        "* Saving and restoring models\n",
        "* Using callbacks\n",
        "* Exercises"
      ]
    },
    {
      "cell_type": "markdown",
      "metadata": {
        "id": "tlizysa45deb"
      },
      "source": [
        "In the previous exercise we set up a Multilayer Perceptron to model the Iris Dataset. Here we consider the [MNIST handwritten digits database](https://en.wikipedia.org/wiki/MNIST_database) to investigate further aspects of setting up Neural Networks. This is a collection of 60,000 training images and 10,000 testing images, which have been digitised onto a 28x28 grid."
      ]
    },
    {
      "cell_type": "markdown",
      "metadata": {
        "id": "Vu_FglXk5def"
      },
      "source": [
        "First we import Tensorflow and Keras."
      ]
    },
    {
      "cell_type": "code",
      "execution_count": null,
      "metadata": {
        "id": "3jW28YZ_5deg"
      },
      "outputs": [],
      "source": [
        "import tensorflow as tf\n",
        "from tensorflow import keras"
      ]
    },
    {
      "cell_type": "markdown",
      "metadata": {
        "id": "DMJ28arx5deg"
      },
      "source": [
        "We import from `keras` a built-in function to load the MNIST data set. From `keras` we introduce the functions `Sequential`, which creates a feed-forward neural network and `Dense` which creates a fully connected network for each layer. We also introduce `SGD` which implements stochastic gradient descent.\n",
        "\n",
        "Finally, we introduce the usual suspects."
      ]
    },
    {
      "cell_type": "code",
      "execution_count": null,
      "metadata": {
        "id": "DxDJvr2u5deh"
      },
      "outputs": [],
      "source": [
        "from tensorflow.keras.datasets import mnist\n",
        "from sklearn.model_selection import train_test_split\n",
        "from sklearn.metrics import classification_report, confusion_matrix\n",
        "from tensorflow.keras.models import Sequential\n",
        "from tensorflow.keras.layers import Flatten, Dense\n",
        "from tensorflow.keras.optimizers import SGD\n",
        "import numpy as np\n",
        "import pandas as pd\n",
        "import seaborn as sns\n",
        "import matplotlib.pyplot as plt"
      ]
    },
    {
      "cell_type": "markdown",
      "metadata": {
        "id": "Y4zHboec5deh"
      },
      "source": [
        "## MNIST"
      ]
    },
    {
      "cell_type": "markdown",
      "metadata": {
        "id": "9Teu_uXt5deh"
      },
      "source": [
        "We first load the MNIST data. This comes already split into a training and testing set. The features are black and white images which are pixellated onto a 28x28 grid, with intensities ranging from 0 to 255. The targets values are the digit (0-9) that each image corresponds to."
      ]
    },
    {
      "cell_type": "code",
      "execution_count": null,
      "metadata": {
        "id": "RLi5DfnE5deh"
      },
      "outputs": [],
      "source": [
        "(X_train_full, y_train_full), (X_test, y_test) = mnist.load_data()"
      ]
    },
    {
      "cell_type": "code",
      "execution_count": null,
      "metadata": {
        "colab": {
          "base_uri": "https://localhost:8080/"
        },
        "id": "bJhZM_3HB6dR",
        "outputId": "d7e4b77e-52b9-4a25-9fdc-9ea297dbab58"
      },
      "outputs": [
        {
          "output_type": "execute_result",
          "data": {
            "text/plain": [
              "(60000, 28, 28)"
            ]
          },
          "metadata": {},
          "execution_count": 40
        }
      ],
      "source": [
        "X_train_full.shape"
      ]
    },
    {
      "cell_type": "code",
      "execution_count": null,
      "metadata": {
        "colab": {
          "base_uri": "https://localhost:8080/"
        },
        "id": "eN9VpYh6B6dS",
        "outputId": "1de2aed7-c832-4b81-e793-8a3656401be7"
      },
      "outputs": [
        {
          "output_type": "execute_result",
          "data": {
            "text/plain": [
              "(60000,)"
            ]
          },
          "metadata": {},
          "execution_count": 41
        }
      ],
      "source": [
        "y_train_full.shape"
      ]
    },
    {
      "cell_type": "markdown",
      "metadata": {
        "id": "IbgY7HweaHht"
      },
      "source": [
        "We can plot the first 40 images in the training set, along with their target values."
      ]
    },
    {
      "cell_type": "code",
      "execution_count": null,
      "metadata": {
        "colab": {
          "base_uri": "https://localhost:8080/",
          "height": 294
        },
        "id": "7MvtEVQUZmdA",
        "outputId": "e67e9c44-a845-4fdd-93af-4bb5f3a72abc"
      },
      "outputs": [
        {
          "output_type": "display_data",
          "data": {
            "text/plain": [
              "<Figure size 720x360 with 40 Axes>"
            ],
            "image/png": "[encoded data removed]"
          },
          "metadata": {}
        }
      ],
      "source": [
        "fig = plt.figure(figsize=(10,5)) # set up a figure of size 10 x 5\n",
        "\n",
        "for i in range(40): # loop over the first 40 images\n",
        "    # on a 4 x 10 grid add the next plot with no xticks or yticks\n",
        "    ax = fig.add_subplot(4,10,i+1,xticks=[],yticks=[])\n",
        "    # plot the image i of the digits and use binary colourmap\n",
        "    ax.imshow(X_train_full[i], cmap=plt.cm.binary)\n",
        "    ax.text(0,7,str(y_train_full[i])) # add the target value in the lower left corner"
      ]
    },
    {
      "cell_type": "markdown",
      "metadata": {
        "id": "nUGv9Bp6aTsH"
      },
      "source": [
        "This is now split into a training set and a validation set, and the features are normalized so that the pixel values ranges from 0 to 1."
      ]
    },
    {
      "cell_type": "code",
      "execution_count": null,
      "metadata": {
        "id": "Y4GH5Y1eB6dS"
      },
      "outputs": [],
      "source": [
        "X_valid = X_train_full[:5000]/255.0\n",
        "X_train = X_train_full[5000:]/255.0\n",
        "y_valid = y_train_full[:5000]\n",
        "y_train = y_train_full[5000:]"
      ]
    },
    {
      "cell_type": "markdown",
      "metadata": {
        "id": "PRdlLf0uB6dT"
      },
      "source": [
        "## Sequential API"
      ]
    },
    {
      "cell_type": "markdown",
      "metadata": {
        "id": "5OGnLaVXezgk"
      },
      "source": [
        "Previously we used a single call to initialize the Neural Network, however a cleaner way to do this is to initialize the model and then use the `model.add()` method to sequentially add layers. We need to specify the input shape is a 28x28 matrix, _flatten_ that to convert it to a vector and that the output corresponds to 10 possible categories. The number of hidden layers and the number of neurons in each hidden layer is then arbitrary. For each of the nodes in the hidden layers the ReLU activation function is used.\n",
        "\n",
        "We store the weights and biases of the model using `model.get_weights()`, so that we can reset the model for later runs.\n",
        "\n",
        "There is also a Functional API to create models, which allows the creation of more complex Neural Networks."
      ]
    },
    {
      "cell_type": "code",
      "execution_count": null,
      "metadata": {
        "colab": {
          "base_uri": "https://localhost:8080/"
        },
        "id": "1q1IOwDltBO6",
        "outputId": "2642e181-0c82-481b-b814-0be29d8cdd53"
      },
      "outputs": [
        {
          "output_type": "stream",
          "name": "stdout",
          "text": [
            "Model: \"sequential_2\"\n",
            "_________________________________________________________________\n",
            " Layer (type)                Output Shape              Param #   \n",
            "=================================================================\n",
            " flatten_2 (Flatten)         (None, 784)               0         \n",
            "                                                                 \n",
            " dense_6 (Dense)             (None, 300)               235500    \n",
            "                                                                 \n",
            " dense_7 (Dense)             (None, 100)               30100     \n",
            "                                                                 \n",
            " dense_8 (Dense)             (None, 10)                1010      \n",
            "                                                                 \n",
            "=================================================================\n",
            "Total params: 266,610\n",
            "Trainable params: 266,610\n",
            "Non-trainable params: 0\n",
            "_________________________________________________________________\n"
          ]
        }
      ],
      "source": [
        "model = Sequential()\n",
        "model.add(Flatten(input_shape=[28, 28]))\n",
        "model.add(Dense(300, activation=\"relu\"))\n",
        "model.add(Dense(100, activation=\"relu\"))\n",
        "model.add(Dense(10, activation=\"softmax\"))\n",
        "\n",
        "weights = model.get_weights();\n",
        "\n",
        "model.summary()"
      ]
    },
    {
      "cell_type": "markdown",
      "metadata": {
        "id": "lyOeMV3MgplU"
      },
      "source": [
        "To compile the model we use the loss function `sparse_categorical_crossentropy`, as we have mutually exclusive target values for the variables ranging from 0-9. For the Iris data set we used one-hot encoding which created a binary table with each column corresponding to whether or not that instance corresponds to a particular species. In that case with one-hot encoding the appropriate loss function is `categorical_crossentropy`.\n",
        "\n",
        "We will use SGD with the default learning rate of `lr=0.01` and decay rate of `decay=0`."
      ]
    },
    {
      "cell_type": "code",
      "execution_count": null,
      "metadata": {
        "id": "VyqADWHs5dej"
      },
      "outputs": [],
      "source": [
        "opt = SGD(learning_rate=0.01)\n",
        "model.compile(loss='sparse_categorical_crossentropy', optimizer=opt, metrics=[\"accuracy\"])"
      ]
    },
    {
      "cell_type": "markdown",
      "metadata": {
        "id": "ws_9hcDFjjTA"
      },
      "source": [
        "Finally we can train the model. In this example we use only 50 epochs (iterations) and use explicit validation datasets. Previously, we specified what proportion of the training set should be used for validation. Due to the large size of the input data (784 features compared with 4 features for the Iris data), training takes significantly longer. For each epoch only 32 randomly chosen instances (the default batch size) are chosen for training the model."
      ]
    },
    {
      "cell_type": "code",
      "execution_count": null,
      "metadata": {
        "colab": {
          "base_uri": "https://localhost:8080/"
        },
        "id": "YQkmotJf5dej",
        "outputId": "22dbc353-77d7-4fff-8b37-4aa86b70adcc"
      },
      "outputs": [
        {
          "output_type": "stream",
          "name": "stdout",
          "text": [
            "Epoch 1/50\n",
            "1719/1719 - 10s - loss: 0.5675 - accuracy: 0.8572 - val_loss: 0.2928 - val_accuracy: 0.9186 - 10s/epoch - 6ms/step\n",
            "Epoch 2/50\n",
            "1719/1719 - 8s - loss: 0.2841 - accuracy: 0.9189 - val_loss: 0.2319 - val_accuracy: 0.9362 - 8s/epoch - 5ms/step\n",
            "Epoch 3/50\n",
            "1719/1719 - 5s - loss: 0.2320 - accuracy: 0.9336 - val_loss: 0.1976 - val_accuracy: 0.9466 - 5s/epoch - 3ms/step\n",
            "Epoch 4/50\n",
            "1719/1719 - 5s - loss: 0.1970 - accuracy: 0.9438 - val_loss: 0.1695 - val_accuracy: 0.9550 - 5s/epoch - 3ms/step\n",
            "Epoch 5/50\n",
            "1719/1719 - 5s - loss: 0.1713 - accuracy: 0.9514 - val_loss: 0.1597 - val_accuracy: 0.9602 - 5s/epoch - 3ms/step\n",
            "Epoch 6/50\n",
            "1719/1719 - 5s - loss: 0.1516 - accuracy: 0.9564 - val_loss: 0.1431 - val_accuracy: 0.9626 - 5s/epoch - 3ms/step\n",
            "Epoch 7/50\n",
            "1719/1719 - 5s - loss: 0.1355 - accuracy: 0.9617 - val_loss: 0.1290 - val_accuracy: 0.9672 - 5s/epoch - 3ms/step\n",
            "Epoch 8/50\n",
            "1719/1719 - 5s - loss: 0.1226 - accuracy: 0.9657 - val_loss: 0.1191 - val_accuracy: 0.9690 - 5s/epoch - 3ms/step\n",
            "Epoch 9/50\n",
            "1719/1719 - 5s - loss: 0.1113 - accuracy: 0.9685 - val_loss: 0.1127 - val_accuracy: 0.9714 - 5s/epoch - 3ms/step\n",
            "Epoch 10/50\n",
            "1719/1719 - 5s - loss: 0.1020 - accuracy: 0.9713 - val_loss: 0.1076 - val_accuracy: 0.9720 - 5s/epoch - 3ms/step\n",
            "Epoch 11/50\n",
            "1719/1719 - 5s - loss: 0.0939 - accuracy: 0.9737 - val_loss: 0.1021 - val_accuracy: 0.9734 - 5s/epoch - 3ms/step\n",
            "Epoch 12/50\n",
            "1719/1719 - 5s - loss: 0.0869 - accuracy: 0.9755 - val_loss: 0.0961 - val_accuracy: 0.9744 - 5s/epoch - 3ms/step\n",
            "Epoch 13/50\n",
            "1719/1719 - 5s - loss: 0.0803 - accuracy: 0.9777 - val_loss: 0.0937 - val_accuracy: 0.9760 - 5s/epoch - 3ms/step\n",
            "Epoch 14/50\n",
            "1719/1719 - 5s - loss: 0.0743 - accuracy: 0.9797 - val_loss: 0.0898 - val_accuracy: 0.9756 - 5s/epoch - 3ms/step\n",
            "Epoch 15/50\n",
            "1719/1719 - 5s - loss: 0.0695 - accuracy: 0.9804 - val_loss: 0.0869 - val_accuracy: 0.9764 - 5s/epoch - 3ms/step\n",
            "Epoch 16/50\n",
            "1719/1719 - 5s - loss: 0.0647 - accuracy: 0.9821 - val_loss: 0.0839 - val_accuracy: 0.9768 - 5s/epoch - 3ms/step\n",
            "Epoch 17/50\n",
            "1719/1719 - 5s - loss: 0.0605 - accuracy: 0.9832 - val_loss: 0.0827 - val_accuracy: 0.9760 - 5s/epoch - 3ms/step\n",
            "Epoch 18/50\n",
            "1719/1719 - 6s - loss: 0.0565 - accuracy: 0.9844 - val_loss: 0.0808 - val_accuracy: 0.9752 - 6s/epoch - 4ms/step\n",
            "Epoch 19/50\n",
            "1719/1719 - 6s - loss: 0.0529 - accuracy: 0.9855 - val_loss: 0.0804 - val_accuracy: 0.9772 - 6s/epoch - 3ms/step\n",
            "Epoch 20/50\n",
            "1719/1719 - 6s - loss: 0.0497 - accuracy: 0.9865 - val_loss: 0.0783 - val_accuracy: 0.9762 - 6s/epoch - 4ms/step\n",
            "Epoch 21/50\n",
            "1719/1719 - 5s - loss: 0.0466 - accuracy: 0.9878 - val_loss: 0.0767 - val_accuracy: 0.9768 - 5s/epoch - 3ms/step\n",
            "Epoch 22/50\n",
            "1719/1719 - 5s - loss: 0.0437 - accuracy: 0.9887 - val_loss: 0.0764 - val_accuracy: 0.9768 - 5s/epoch - 3ms/step\n",
            "Epoch 23/50\n",
            "1719/1719 - 5s - loss: 0.0414 - accuracy: 0.9895 - val_loss: 0.0768 - val_accuracy: 0.9760 - 5s/epoch - 3ms/step\n",
            "Epoch 24/50\n",
            "1719/1719 - 5s - loss: 0.0386 - accuracy: 0.9905 - val_loss: 0.0746 - val_accuracy: 0.9772 - 5s/epoch - 3ms/step\n",
            "Epoch 25/50\n",
            "1719/1719 - 5s - loss: 0.0365 - accuracy: 0.9910 - val_loss: 0.0744 - val_accuracy: 0.9770 - 5s/epoch - 3ms/step\n",
            "Epoch 26/50\n",
            "1719/1719 - 5s - loss: 0.0343 - accuracy: 0.9915 - val_loss: 0.0730 - val_accuracy: 0.9782 - 5s/epoch - 3ms/step\n",
            "Epoch 27/50\n",
            "1719/1719 - 5s - loss: 0.0324 - accuracy: 0.9926 - val_loss: 0.0726 - val_accuracy: 0.9770 - 5s/epoch - 3ms/step\n",
            "Epoch 28/50\n",
            "1719/1719 - 5s - loss: 0.0305 - accuracy: 0.9930 - val_loss: 0.0727 - val_accuracy: 0.9786 - 5s/epoch - 3ms/step\n",
            "Epoch 29/50\n",
            "1719/1719 - 5s - loss: 0.0288 - accuracy: 0.9937 - val_loss: 0.0706 - val_accuracy: 0.9788 - 5s/epoch - 3ms/step\n",
            "Epoch 30/50\n",
            "1719/1719 - 5s - loss: 0.0273 - accuracy: 0.9941 - val_loss: 0.0719 - val_accuracy: 0.9792 - 5s/epoch - 3ms/step\n",
            "Epoch 31/50\n",
            "1719/1719 - 5s - loss: 0.0258 - accuracy: 0.9944 - val_loss: 0.0708 - val_accuracy: 0.9792 - 5s/epoch - 3ms/step\n",
            "Epoch 32/50\n",
            "1719/1719 - 5s - loss: 0.0243 - accuracy: 0.9950 - val_loss: 0.0697 - val_accuracy: 0.9804 - 5s/epoch - 3ms/step\n",
            "Epoch 33/50\n",
            "1719/1719 - 5s - loss: 0.0231 - accuracy: 0.9952 - val_loss: 0.0704 - val_accuracy: 0.9792 - 5s/epoch - 3ms/step\n",
            "Epoch 34/50\n",
            "1719/1719 - 5s - loss: 0.0219 - accuracy: 0.9958 - val_loss: 0.0706 - val_accuracy: 0.9802 - 5s/epoch - 3ms/step\n",
            "Epoch 35/50\n",
            "1719/1719 - 5s - loss: 0.0206 - accuracy: 0.9963 - val_loss: 0.0694 - val_accuracy: 0.9798 - 5s/epoch - 3ms/step\n",
            "Epoch 36/50\n",
            "1719/1719 - 5s - loss: 0.0196 - accuracy: 0.9963 - val_loss: 0.0696 - val_accuracy: 0.9802 - 5s/epoch - 3ms/step\n",
            "Epoch 37/50\n",
            "1719/1719 - 5s - loss: 0.0184 - accuracy: 0.9968 - val_loss: 0.0758 - val_accuracy: 0.9786 - 5s/epoch - 3ms/step\n",
            "Epoch 38/50\n",
            "1719/1719 - 5s - loss: 0.0176 - accuracy: 0.9969 - val_loss: 0.0702 - val_accuracy: 0.9794 - 5s/epoch - 3ms/step\n",
            "Epoch 39/50\n",
            "1719/1719 - 5s - loss: 0.0167 - accuracy: 0.9973 - val_loss: 0.0693 - val_accuracy: 0.9790 - 5s/epoch - 3ms/step\n",
            "Epoch 40/50\n",
            "1719/1719 - 5s - loss: 0.0159 - accuracy: 0.9974 - val_loss: 0.0691 - val_accuracy: 0.9796 - 5s/epoch - 3ms/step\n",
            "Epoch 41/50\n",
            "1719/1719 - 5s - loss: 0.0151 - accuracy: 0.9979 - val_loss: 0.0679 - val_accuracy: 0.9796 - 5s/epoch - 3ms/step\n",
            "Epoch 42/50\n",
            "1719/1719 - 5s - loss: 0.0142 - accuracy: 0.9981 - val_loss: 0.0705 - val_accuracy: 0.9796 - 5s/epoch - 3ms/step\n",
            "Epoch 43/50\n",
            "1719/1719 - 5s - loss: 0.0136 - accuracy: 0.9982 - val_loss: 0.0683 - val_accuracy: 0.9798 - 5s/epoch - 3ms/step\n",
            "Epoch 44/50\n",
            "1719/1719 - 5s - loss: 0.0129 - accuracy: 0.9984 - val_loss: 0.0701 - val_accuracy: 0.9798 - 5s/epoch - 3ms/step\n",
            "Epoch 45/50\n",
            "1719/1719 - 5s - loss: 0.0123 - accuracy: 0.9986 - val_loss: 0.0696 - val_accuracy: 0.9814 - 5s/epoch - 3ms/step\n",
            "Epoch 46/50\n",
            "1719/1719 - 5s - loss: 0.0116 - accuracy: 0.9986 - val_loss: 0.0694 - val_accuracy: 0.9810 - 5s/epoch - 3ms/step\n",
            "Epoch 47/50\n",
            "1719/1719 - 5s - loss: 0.0111 - accuracy: 0.9987 - val_loss: 0.0699 - val_accuracy: 0.9798 - 5s/epoch - 3ms/step\n",
            "Epoch 48/50\n",
            "1719/1719 - 5s - loss: 0.0106 - accuracy: 0.9988 - val_loss: 0.0709 - val_accuracy: 0.9796 - 5s/epoch - 3ms/step\n",
            "Epoch 49/50\n",
            "1719/1719 - 5s - loss: 0.0101 - accuracy: 0.9990 - val_loss: 0.0697 - val_accuracy: 0.9802 - 5s/epoch - 3ms/step\n",
            "Epoch 50/50\n",
            "1719/1719 - 5s - loss: 0.0096 - accuracy: 0.9991 - val_loss: 0.0716 - val_accuracy: 0.9800 - 5s/epoch - 3ms/step\n"
          ]
        }
      ],
      "source": [
        "history = model.fit(X_train, y_train, epochs=50,\n",
        "                    validation_data=(X_valid, y_valid), verbose=2);"
      ]
    },
    {
      "cell_type": "markdown",
      "metadata": {
        "id": "kgjTFiLH5dej"
      },
      "source": [
        "The loss and accuracy of the training and validation sets are stored in history and can now be plotted as a function of the epochs of the model. The behaviour looks reasonable where there is no significant difference between the testing and validation data, and the accuracy is generally monotonically increasing, while the loss is monotonically decreasing. However, the validation loss and accuracy appear to not have any significant changes after approximately 20 epochs."
      ]
    },
    {
      "cell_type": "code",
      "execution_count": null,
      "metadata": {
        "colab": {
          "base_uri": "https://localhost:8080/",
          "height": 350
        },
        "id": "xXp-VzYl5dek",
        "outputId": "820ab9d1-c81f-4a8d-dc1c-f155d3e14fb5",
        "scrolled": true
      },
      "outputs": [
        {
          "output_type": "display_data",
          "data": {
            "text/plain": [
              "<Figure size 576x360 with 1 Axes>"
            ],
            "image/png": "[encoded data removed]"
          },
          "metadata": {
            "needs_background": "light"
          }
        }
      ],
      "source": [
        "pd.DataFrame(history.history).plot(figsize=(8,5))\n",
        "plt.grid(True)\n",
        "plt.xlabel('Epochs')\n",
        "plt.title('Evolution of sequential neural network for MNIST');"
      ]
    },
    {
      "cell_type": "markdown",
      "metadata": {
        "id": "eVHbflp75dek"
      },
      "source": [
        "Finally we can use the testing set to determine the accuracy of the model. This can be done using the `evaluate` function for the model. As can be seen the accuracy for the test set is consistent with the accuracy of the validation set."
      ]
    },
    {
      "cell_type": "code",
      "execution_count": null,
      "metadata": {
        "colab": {
          "base_uri": "https://localhost:8080/"
        },
        "id": "U1HXy8T35dek",
        "outputId": "b15e04bf-220a-4f39-8fa1-4c66eba83cd8"
      },
      "outputs": [
        {
          "output_type": "stream",
          "name": "stdout",
          "text": [
            "313/313 [==============================] - 1s 4ms/step - loss: 15.3068 - accuracy: 0.9748\n"
          ]
        },
        {
          "output_type": "execute_result",
          "data": {
            "text/plain": [
              "[15.30678939819336, 0.9747999906539917]"
            ]
          },
          "metadata": {},
          "execution_count": 48
        }
      ],
      "source": [
        "model.evaluate(X_test, y_test)"
      ]
    },
    {
      "cell_type": "markdown",
      "metadata": {
        "id": "hUcCF4cv5dek"
      },
      "source": [
        "We can also investigate other measures of the accuracy using the actual classifications of the model. The model predicts the probability of a particular classification. To find the actual classification we then just need to find the column in each row with the maximum probability using the function `argmax()`. The precision gives an indication of what percentage of the predictions of that digit are correct, while the recall gives an indication of what percentage of the actual samples for that digit are predicted correctly. The F1-score gives a weighted average of the precision and recall. For a perfect model all of these would be 1.\n",
        "\n",
        "The support is the number of actual samples for that digit.\n",
        "\n",
        "As can be seen, for this model the recall for 3 is the lowest and the precision for 8 is the lowest."
      ]
    },
    {
      "cell_type": "code",
      "execution_count": null,
      "metadata": {
        "colab": {
          "base_uri": "https://localhost:8080/"
        },
        "id": "oWqxyMOj5dek",
        "outputId": "43087ee5-5a8e-4060-d2f2-00278b79bd47"
      },
      "outputs": [
        {
          "output_type": "execute_result",
          "data": {
            "text/plain": [
              "(10000,)"
            ]
          },
          "metadata": {},
          "execution_count": 49
        }
      ],
      "source": [
        "proba = model.predict(X_test)\n",
        "y_test.shape"
      ]
    },
    {
      "cell_type": "code",
      "execution_count": null,
      "metadata": {
        "colab": {
          "base_uri": "https://localhost:8080/"
        },
        "id": "vKjGQXa_E6ux",
        "outputId": "e8342440-84e5-45a8-af44-a012ffb5d800"
      },
      "outputs": [
        {
          "output_type": "stream",
          "name": "stdout",
          "text": [
            "              precision    recall  f1-score   support\n",
            "\n",
            "           0       0.99      0.97      0.98       996\n",
            "           1       0.99      0.99      0.99      1143\n",
            "           2       0.97      0.98      0.98      1025\n",
            "           3       0.99      0.94      0.96      1066\n",
            "           4       0.97      0.99      0.98       961\n",
            "           5       0.96      0.99      0.97       863\n",
            "           6       0.98      0.97      0.98       965\n",
            "           7       0.98      0.96      0.97      1049\n",
            "           8       0.94      0.99      0.97       932\n",
            "           9       0.97      0.97      0.97      1000\n",
            "\n",
            "    accuracy                           0.97     10000\n",
            "   macro avg       0.97      0.98      0.97     10000\n",
            "weighted avg       0.98      0.97      0.97     10000\n",
            "\n"
          ]
        }
      ],
      "source": [
        "print(classification_report(proba.argmax(axis=1), y_test))"
      ]
    },
    {
      "cell_type": "markdown",
      "metadata": {
        "id": "AGvhauXu5del"
      },
      "source": [
        "The overall accuracy can also be investigated by plotting the confusion matrix for the classifications. Here we see the same conclusions as from the classification report. The main problem appears to be 3 being predicted as 5 or 8."
      ]
    },
    {
      "cell_type": "code",
      "execution_count": null,
      "metadata": {
        "colab": {
          "base_uri": "https://localhost:8080/",
          "height": 404
        },
        "id": "Xuh045bE5del",
        "outputId": "030a759a-9278-43e5-b82a-c3530bc8426d"
      },
      "outputs": [
        {
          "output_type": "display_data",
          "data": {
            "text/plain": [
              "<Figure size 504x432 with 2 Axes>"
            ],
            "image/png": "[encoded data removed]"
          },
          "metadata": {
            "needs_background": "light"
          }
        }
      ],
      "source": [
        "def plt_confusion_matrix(cnf_matrix, cats, method):\n",
        "    \"\"\"\n",
        "    Plots a sklearn confusion matrix with categories 'cats' for a classifier 'method'\n",
        "    \"\"\"\n",
        "    # write the confusion matrix to a dataframe with row and column names as the categories,\n",
        "    # which are already defined\n",
        "    cmatrix = pd.DataFrame(cnf_matrix,columns=cats,index=cats)\n",
        "    f, ax = plt.subplots(figsize=(7,6)) # initialise the plots and axes\n",
        "    sns.heatmap(cmatrix, annot=True, linewidths=.5) # plot the confusion matrix as a heatmap\n",
        "    plt.title('Confusion matrix for '+method) # add a title, + concatenates two strings\n",
        "    plt.ylabel('Actual label') # add a ylabel\n",
        "    plt.xlabel('Predicted label') # add a xlabel\n",
        "    # adjust the bottom and top of the figure, so we can view all of it\n",
        "    bottom, top = ax.get_ylim()  # get the y axis limits\n",
        "    ax.set_ylim(bottom + 0.5, top - 0.5); # adjust the y axis limits\n",
        "\n",
        "# create a confusion matrix for our actual and predicted values\n",
        "cnf_matrix = confusion_matrix(proba.argmax(axis=1), y_test)\n",
        "plt_confusion_matrix(cnf_matrix, ['0','1','2','3','4','5','6','7','8','9'], 'Neural Network')"
      ]
    },
    {
      "cell_type": "markdown",
      "metadata": {
        "id": "xtqmkHwAIjDv"
      },
      "source": [
        "## Saving the model"
      ]
    },
    {
      "cell_type": "markdown",
      "metadata": {
        "id": "tTkvlXKLInK4"
      },
      "source": [
        "Since the models take a while to run, we don't want to repeat the training every time we are using the model. We can therefore use `model.save()` to save all the parameters and hyperparameters for the model in HDF5 (a scientific data format)."
      ]
    },
    {
      "cell_type": "code",
      "execution_count": null,
      "metadata": {
        "colab": {
          "base_uri": "https://localhost:8080/"
        },
        "id": "5c9gscmyI_OL",
        "outputId": "ea6d5b15-a615-4b6d-a81b-8cb63cc97ceb"
      },
      "outputs": [
        {
          "output_type": "stream",
          "name": "stdout",
          "text": [
            "KerasMnistModel.hd5  sample_data\n"
          ]
        }
      ],
      "source": [
        "model.save(\"KerasMnistModel.hd5\")\n",
        "!ls"
      ]
    },
    {
      "cell_type": "markdown",
      "metadata": {
        "id": "CAfxOGIIoPIu"
      },
      "source": [
        "Then next time we can load the model using `load_model()`. As can be seen this gives the same accuracy on our testing set."
      ]
    },
    {
      "cell_type": "code",
      "execution_count": null,
      "metadata": {
        "colab": {
          "base_uri": "https://localhost:8080/"
        },
        "id": "kUSDGC2XJJVV",
        "outputId": "ab94058e-83a7-46c4-ab2f-9b8e5474f105"
      },
      "outputs": [
        {
          "output_type": "stream",
          "name": "stdout",
          "text": [
            "313/313 [==============================] - 1s 2ms/step - loss: 15.3068 - accuracy: 0.9748\n"
          ]
        },
        {
          "output_type": "execute_result",
          "data": {
            "text/plain": [
              "[15.30678939819336, 0.9747999906539917]"
            ]
          },
          "metadata": {},
          "execution_count": 53
        }
      ],
      "source": [
        "newmodel = keras.models.load_model(\"KerasMnistModel.hd5\")\n",
        "newmodel.evaluate(X_test, y_test)"
      ]
    },
    {
      "cell_type": "markdown",
      "metadata": {
        "id": "Iu_NlNhqolRR"
      },
      "source": [
        "We can also store the model after each epoch. For example, this might be useful on Google Colab if you have a very long training run which exceeds 12 hours. Then the last state of the model is saved before the run ends and the model training can be restarted from this last state. Alternatively, your computer might crash during a training run, and then you can restart the calculation at the last state.\n",
        "\n",
        "To store the model we use `ModelCheckpoint` to create a _callback_ for Keras which tells the program what to do at the beginning and end of each epoch. We also need to reinitialize the model, so that the weights are set randomly. Otherwise, the last values of the weights and biases would be used."
      ]
    },
    {
      "cell_type": "code",
      "execution_count": null,
      "metadata": {
        "colab": {
          "base_uri": "https://localhost:8080/"
        },
        "id": "7RCpcPPuJlfQ",
        "outputId": "411bc59d-d8e6-40f7-fb04-7a103b52d63b"
      },
      "outputs": [
        {
          "output_type": "stream",
          "name": "stdout",
          "text": [
            "Epoch 1/10\n",
            "1719/1719 - 6s - loss: 0.5667 - accuracy: 0.8570 - val_loss: 0.2976 - val_accuracy: 0.9190 - 6s/epoch - 3ms/step\n",
            "Epoch 2/10\n",
            "1719/1719 - 6s - loss: 0.2828 - accuracy: 0.9198 - val_loss: 0.2361 - val_accuracy: 0.9340 - 6s/epoch - 3ms/step\n",
            "Epoch 3/10\n",
            "1719/1719 - 6s - loss: 0.2307 - accuracy: 0.9341 - val_loss: 0.1978 - val_accuracy: 0.9462 - 6s/epoch - 3ms/step\n",
            "Epoch 4/10\n",
            "1719/1719 - 6s - loss: 0.1953 - accuracy: 0.9442 - val_loss: 0.1768 - val_accuracy: 0.9536 - 6s/epoch - 4ms/step\n",
            "Epoch 5/10\n",
            "1719/1719 - 6s - loss: 0.1705 - accuracy: 0.9510 - val_loss: 0.1554 - val_accuracy: 0.9590 - 6s/epoch - 3ms/step\n",
            "Epoch 6/10\n",
            "1719/1719 - 6s - loss: 0.1502 - accuracy: 0.9568 - val_loss: 0.1400 - val_accuracy: 0.9660 - 6s/epoch - 3ms/step\n",
            "Epoch 7/10\n",
            "1719/1719 - 6s - loss: 0.1350 - accuracy: 0.9615 - val_loss: 0.1277 - val_accuracy: 0.9676 - 6s/epoch - 3ms/step\n",
            "Epoch 8/10\n",
            "1719/1719 - 6s - loss: 0.1216 - accuracy: 0.9656 - val_loss: 0.1198 - val_accuracy: 0.9690 - 6s/epoch - 3ms/step\n",
            "Epoch 9/10\n",
            "1719/1719 - 6s - loss: 0.1110 - accuracy: 0.9690 - val_loss: 0.1145 - val_accuracy: 0.9702 - 6s/epoch - 3ms/step\n",
            "Epoch 10/10\n",
            "1719/1719 - 6s - loss: 0.1012 - accuracy: 0.9723 - val_loss: 0.1094 - val_accuracy: 0.9706 - 6s/epoch - 3ms/step\n"
          ]
        }
      ],
      "source": [
        "from tensorflow.keras.callbacks import ModelCheckpoint\n",
        "\n",
        "model.set_weights(weights)\n",
        "checkpoint_cb = ModelCheckpoint(\"KerasMnistModel.hd5\")\n",
        "history1 = model.fit(X_train, y_train, epochs=10,\n",
        "                    validation_data=(X_valid, y_valid), verbose=2,\n",
        "                    callbacks=[checkpoint_cb]);"
      ]
    },
    {
      "cell_type": "markdown",
      "metadata": {
        "id": "JblqFR2BqD8l"
      },
      "source": [
        "This can be refined by only saving models which have a better accuracy than any previous epochs by specifying `save_best_only=True`. Then the final model which is saved is the most accurate model from the training run. We also use the validation accurcay, rather than the validation loss. Now we see that for this simulation we run 20 epochs, but not all of the epochs are stored due to the accuracy not improving from previous epochs.\n",
        "\n",
        "We can also also suppress the model output by specifying `verbose=0`."
      ]
    },
    {
      "cell_type": "code",
      "execution_count": null,
      "metadata": {
        "colab": {
          "base_uri": "https://localhost:8080/"
        },
        "id": "XaFqTQksMG1p",
        "outputId": "c16de328-638e-4716-cdfe-4171a2ef649d"
      },
      "outputs": [
        {
          "output_type": "stream",
          "name": "stdout",
          "text": [
            "\n",
            "Epoch 1: val_accuracy improved from -inf to 0.91920, saving model to KerasMnistModel.hd5\n",
            "\n",
            "Epoch 2: val_accuracy improved from 0.91920 to 0.93440, saving model to KerasMnistModel.hd5\n",
            "\n",
            "Epoch 3: val_accuracy improved from 0.93440 to 0.94660, saving model to KerasMnistModel.hd5\n",
            "\n",
            "Epoch 4: val_accuracy improved from 0.94660 to 0.95420, saving model to KerasMnistModel.hd5\n",
            "\n",
            "Epoch 5: val_accuracy improved from 0.95420 to 0.95880, saving model to KerasMnistModel.hd5\n",
            "\n",
            "Epoch 6: val_accuracy improved from 0.95880 to 0.96240, saving model to KerasMnistModel.hd5\n",
            "\n",
            "Epoch 7: val_accuracy improved from 0.96240 to 0.96660, saving model to KerasMnistModel.hd5\n",
            "\n",
            "Epoch 8: val_accuracy improved from 0.96660 to 0.97020, saving model to KerasMnistModel.hd5\n",
            "\n",
            "Epoch 9: val_accuracy did not improve from 0.97020\n",
            "\n",
            "Epoch 10: val_accuracy improved from 0.97020 to 0.97200, saving model to KerasMnistModel.hd5\n",
            "\n",
            "Epoch 11: val_accuracy improved from 0.97200 to 0.97220, saving model to KerasMnistModel.hd5\n",
            "\n",
            "Epoch 12: val_accuracy improved from 0.97220 to 0.97380, saving model to KerasMnistModel.hd5\n",
            "\n",
            "Epoch 13: val_accuracy improved from 0.97380 to 0.97440, saving model to KerasMnistModel.hd5\n",
            "\n",
            "Epoch 14: val_accuracy improved from 0.97440 to 0.97480, saving model to KerasMnistModel.hd5\n",
            "\n",
            "Epoch 15: val_accuracy improved from 0.97480 to 0.97520, saving model to KerasMnistModel.hd5\n",
            "\n",
            "Epoch 16: val_accuracy improved from 0.97520 to 0.97560, saving model to KerasMnistModel.hd5\n",
            "\n",
            "Epoch 17: val_accuracy did not improve from 0.97560\n",
            "\n",
            "Epoch 18: val_accuracy did not improve from 0.97560\n",
            "\n",
            "Epoch 19: val_accuracy did not improve from 0.97560\n",
            "\n",
            "Epoch 20: val_accuracy improved from 0.97560 to 0.97640, saving model to KerasMnistModel.hd5\n"
          ]
        }
      ],
      "source": [
        "model.set_weights(weights)\n",
        "checkpoint_cb = ModelCheckpoint(\"KerasMnistModel.hd5\", monitor='val_accuracy',\n",
        "                                save_best_only=True, verbose=1)\n",
        "history2 = model.fit(X_train, y_train, epochs=20,\n",
        "                    validation_data=(X_valid, y_valid), verbose=0,\n",
        "                    callbacks=[checkpoint_cb]);"
      ]
    },
    {
      "cell_type": "markdown",
      "metadata": {
        "id": "9fC2vwneqQdJ"
      },
      "source": [
        "Callbacks can also be used to stop the training once the model accuracy is not improving. To do this we use the `EarlyStopping` method and specify the parameter `patience`. Here we use `patience=4`, which states that if the model accuracy (which is measured again using the validation accuracy) does not improve over the last 4 epochs, then the training is stopped. Consequently, the training is stopped at epoch 33."
      ]
    },
    {
      "cell_type": "code",
      "execution_count": null,
      "metadata": {
        "colab": {
          "base_uri": "https://localhost:8080/"
        },
        "id": "LAm3xETUMsTl",
        "outputId": "ed0c3f39-06ec-4fc5-dae4-4a66953413db"
      },
      "outputs": [
        {
          "output_type": "stream",
          "name": "stdout",
          "text": [
            "Epoch 1/40\n",
            "1719/1719 - 6s - loss: 0.5660 - accuracy: 0.8560 - val_loss: 0.2993 - val_accuracy: 0.9160 - 6s/epoch - 3ms/step\n",
            "Epoch 2/40\n",
            "1719/1719 - 6s - loss: 0.2833 - accuracy: 0.9183 - val_loss: 0.2281 - val_accuracy: 0.9364 - 6s/epoch - 3ms/step\n",
            "Epoch 3/40\n",
            "1719/1719 - 6s - loss: 0.2312 - accuracy: 0.9344 - val_loss: 0.1954 - val_accuracy: 0.9462 - 6s/epoch - 3ms/step\n",
            "Epoch 4/40\n",
            "1719/1719 - 6s - loss: 0.1964 - accuracy: 0.9437 - val_loss: 0.1688 - val_accuracy: 0.9556 - 6s/epoch - 3ms/step\n",
            "Epoch 5/40\n",
            "1719/1719 - 6s - loss: 0.1705 - accuracy: 0.9515 - val_loss: 0.1530 - val_accuracy: 0.9594 - 6s/epoch - 4ms/step\n",
            "Epoch 6/40\n",
            "1719/1719 - 6s - loss: 0.1507 - accuracy: 0.9572 - val_loss: 0.1423 - val_accuracy: 0.9642 - 6s/epoch - 3ms/step\n",
            "Epoch 7/40\n",
            "1719/1719 - 6s - loss: 0.1352 - accuracy: 0.9617 - val_loss: 0.1298 - val_accuracy: 0.9666 - 6s/epoch - 3ms/step\n",
            "Epoch 8/40\n",
            "1719/1719 - 6s - loss: 0.1221 - accuracy: 0.9662 - val_loss: 0.1189 - val_accuracy: 0.9690 - 6s/epoch - 3ms/step\n",
            "Epoch 9/40\n",
            "1719/1719 - 6s - loss: 0.1114 - accuracy: 0.9685 - val_loss: 0.1131 - val_accuracy: 0.9710 - 6s/epoch - 3ms/step\n",
            "Epoch 10/40\n",
            "1719/1719 - 5s - loss: 0.1019 - accuracy: 0.9713 - val_loss: 0.1085 - val_accuracy: 0.9710 - 5s/epoch - 3ms/step\n",
            "Epoch 11/40\n",
            "1719/1719 - 6s - loss: 0.0937 - accuracy: 0.9734 - val_loss: 0.1013 - val_accuracy: 0.9736 - 6s/epoch - 3ms/step\n",
            "Epoch 12/40\n",
            "1719/1719 - 5s - loss: 0.0865 - accuracy: 0.9759 - val_loss: 0.0960 - val_accuracy: 0.9728 - 5s/epoch - 3ms/step\n",
            "Epoch 13/40\n",
            "1719/1719 - 6s - loss: 0.0799 - accuracy: 0.9776 - val_loss: 0.0957 - val_accuracy: 0.9748 - 6s/epoch - 3ms/step\n",
            "Epoch 14/40\n",
            "1719/1719 - 6s - loss: 0.0745 - accuracy: 0.9790 - val_loss: 0.0902 - val_accuracy: 0.9754 - 6s/epoch - 3ms/step\n",
            "Epoch 15/40\n",
            "1719/1719 - 5s - loss: 0.0692 - accuracy: 0.9807 - val_loss: 0.0874 - val_accuracy: 0.9746 - 5s/epoch - 3ms/step\n",
            "Epoch 16/40\n",
            "1719/1719 - 6s - loss: 0.0646 - accuracy: 0.9818 - val_loss: 0.0859 - val_accuracy: 0.9768 - 6s/epoch - 3ms/step\n",
            "Epoch 17/40\n",
            "1719/1719 - 5s - loss: 0.0605 - accuracy: 0.9830 - val_loss: 0.0842 - val_accuracy: 0.9760 - 5s/epoch - 3ms/step\n",
            "Epoch 18/40\n",
            "1719/1719 - 5s - loss: 0.0565 - accuracy: 0.9845 - val_loss: 0.0814 - val_accuracy: 0.9764 - 5s/epoch - 3ms/step\n",
            "Epoch 19/40\n",
            "1719/1719 - 5s - loss: 0.0529 - accuracy: 0.9859 - val_loss: 0.0804 - val_accuracy: 0.9764 - 5s/epoch - 3ms/step\n",
            "Epoch 20/40\n",
            "1719/1719 - 6s - loss: 0.0495 - accuracy: 0.9861 - val_loss: 0.0820 - val_accuracy: 0.9750 - 6s/epoch - 4ms/step\n",
            "Epoch 21/40\n",
            "1719/1719 - 5s - loss: 0.0466 - accuracy: 0.9881 - val_loss: 0.0790 - val_accuracy: 0.9764 - 5s/epoch - 3ms/step\n",
            "Epoch 22/40\n",
            "1719/1719 - 6s - loss: 0.0436 - accuracy: 0.9885 - val_loss: 0.0780 - val_accuracy: 0.9772 - 6s/epoch - 3ms/step\n",
            "Epoch 23/40\n",
            "1719/1719 - 5s - loss: 0.0410 - accuracy: 0.9896 - val_loss: 0.0766 - val_accuracy: 0.9770 - 5s/epoch - 3ms/step\n",
            "Epoch 24/40\n",
            "1719/1719 - 6s - loss: 0.0387 - accuracy: 0.9900 - val_loss: 0.0739 - val_accuracy: 0.9776 - 6s/epoch - 3ms/step\n",
            "Epoch 25/40\n",
            "1719/1719 - 6s - loss: 0.0364 - accuracy: 0.9909 - val_loss: 0.0748 - val_accuracy: 0.9784 - 6s/epoch - 3ms/step\n",
            "Epoch 26/40\n",
            "1719/1719 - 5s - loss: 0.0345 - accuracy: 0.9919 - val_loss: 0.0738 - val_accuracy: 0.9774 - 5s/epoch - 3ms/step\n",
            "Epoch 27/40\n",
            "1719/1719 - 5s - loss: 0.0321 - accuracy: 0.9930 - val_loss: 0.0713 - val_accuracy: 0.9784 - 5s/epoch - 3ms/step\n",
            "Epoch 28/40\n",
            "1719/1719 - 5s - loss: 0.0305 - accuracy: 0.9929 - val_loss: 0.0749 - val_accuracy: 0.9778 - 5s/epoch - 3ms/step\n",
            "Epoch 29/40\n",
            "1719/1719 - 5s - loss: 0.0290 - accuracy: 0.9936 - val_loss: 0.0729 - val_accuracy: 0.9784 - 5s/epoch - 3ms/step\n",
            "Epoch 30/40\n",
            "1719/1719 - 5s - loss: 0.0272 - accuracy: 0.9940 - val_loss: 0.0733 - val_accuracy: 0.9784 - 5s/epoch - 3ms/step\n",
            "Epoch 31/40\n",
            "1719/1719 - 6s - loss: 0.0257 - accuracy: 0.9948 - val_loss: 0.0717 - val_accuracy: 0.9792 - 6s/epoch - 3ms/step\n"
          ]
        }
      ],
      "source": [
        "from tensorflow.keras.callbacks import EarlyStopping\n",
        "\n",
        "model.set_weights(weights)\n",
        "checkpoint_cb = ModelCheckpoint(\"KerasMnistModel.hd5\", monitor='val_accuracy',\n",
        "                                save_best_only=True)\n",
        "early_stopping_cb = EarlyStopping(patience=4,\n",
        "                                  restore_best_weights=True)\n",
        "history3 = model.fit(X_train, y_train, epochs=40,\n",
        "                    validation_data=(X_valid, y_valid), verbose=2,\n",
        "                    callbacks=[checkpoint_cb, early_stopping_cb]);"
      ]
    },
    {
      "cell_type": "markdown",
      "metadata": {
        "id": "M_L1RWkIJU1I"
      },
      "source": [
        "Finally, callbacks can be used to modify the learning rate. This can be done by creating user defined functions in conjunction with `LearningRateScheduler` or by using `ReduceLROnPlateau`. We will just consider the latter here. In this case if the accuracy has plateaued over the recent epochs as specified by `patience`, then the learning rate can be reduced by the rate `factor`. Here we specify `factor=0.1`, which causes the learning rate to be reduced by a factor of 10 when the accuracy has plateaued. The rationale is that with a smaller learning rate the training will converge to a minimum, whereas for larger value the training will oscillate around the minimum."
      ]
    },
    {
      "cell_type": "code",
      "execution_count": null,
      "metadata": {
        "colab": {
          "base_uri": "https://localhost:8080/"
        },
        "id": "ucaBmZ3cDeUP",
        "outputId": "01b0a7ea-a966-4c60-9256-12d6cc485bcc"
      },
      "outputs": [
        {
          "output_type": "stream",
          "name": "stdout",
          "text": [
            "Epoch 1/30\n",
            "1719/1719 - 5s - loss: 0.5659 - accuracy: 0.8560 - val_loss: 0.3036 - val_accuracy: 0.9180 - lr: 0.0100 - 5s/epoch - 3ms/step\n",
            "Epoch 2/30\n",
            "1719/1719 - 5s - loss: 0.2832 - accuracy: 0.9185 - val_loss: 0.2312 - val_accuracy: 0.9356 - lr: 0.0100 - 5s/epoch - 3ms/step\n",
            "Epoch 3/30\n",
            "1719/1719 - 5s - loss: 0.2309 - accuracy: 0.9332 - val_loss: 0.1988 - val_accuracy: 0.9448 - lr: 0.0100 - 5s/epoch - 3ms/step\n",
            "Epoch 4/30\n",
            "1719/1719 - 5s - loss: 0.1962 - accuracy: 0.9438 - val_loss: 0.1718 - val_accuracy: 0.9558 - lr: 0.0100 - 5s/epoch - 3ms/step\n",
            "Epoch 5/30\n",
            "1719/1719 - 6s - loss: 0.1710 - accuracy: 0.9507 - val_loss: 0.1527 - val_accuracy: 0.9608 - lr: 0.0100 - 6s/epoch - 3ms/step\n",
            "Epoch 6/30\n",
            "1719/1719 - 5s - loss: 0.1509 - accuracy: 0.9569 - val_loss: 0.1419 - val_accuracy: 0.9650 - lr: 0.0100 - 5s/epoch - 3ms/step\n",
            "Epoch 7/30\n",
            "1719/1719 - 5s - loss: 0.1349 - accuracy: 0.9617 - val_loss: 0.1332 - val_accuracy: 0.9638 - lr: 0.0100 - 5s/epoch - 3ms/step\n",
            "Epoch 8/30\n",
            "1719/1719 - 5s - loss: 0.1217 - accuracy: 0.9652 - val_loss: 0.1201 - val_accuracy: 0.9688 - lr: 0.0100 - 5s/epoch - 3ms/step\n",
            "Epoch 9/30\n",
            "1719/1719 - 5s - loss: 0.1109 - accuracy: 0.9689 - val_loss: 0.1131 - val_accuracy: 0.9694 - lr: 0.0100 - 5s/epoch - 3ms/step\n",
            "Epoch 10/30\n",
            "1719/1719 - 5s - loss: 0.1019 - accuracy: 0.9712 - val_loss: 0.1061 - val_accuracy: 0.9714 - lr: 0.0100 - 5s/epoch - 3ms/step\n",
            "Epoch 11/30\n",
            "1719/1719 - 5s - loss: 0.0935 - accuracy: 0.9740 - val_loss: 0.1008 - val_accuracy: 0.9728 - lr: 0.0100 - 5s/epoch - 3ms/step\n",
            "Epoch 12/30\n",
            "1719/1719 - 5s - loss: 0.0864 - accuracy: 0.9759 - val_loss: 0.0980 - val_accuracy: 0.9736 - lr: 0.0100 - 5s/epoch - 3ms/step\n",
            "Epoch 13/30\n",
            "1719/1719 - 5s - loss: 0.0799 - accuracy: 0.9778 - val_loss: 0.0943 - val_accuracy: 0.9728 - lr: 0.0100 - 5s/epoch - 3ms/step\n",
            "Epoch 14/30\n",
            "1719/1719 - 5s - loss: 0.0744 - accuracy: 0.9791 - val_loss: 0.0906 - val_accuracy: 0.9742 - lr: 0.0100 - 5s/epoch - 3ms/step\n",
            "Epoch 15/30\n",
            "1719/1719 - 5s - loss: 0.0692 - accuracy: 0.9812 - val_loss: 0.0866 - val_accuracy: 0.9752 - lr: 0.0100 - 5s/epoch - 3ms/step\n",
            "Epoch 16/30\n",
            "1719/1719 - 5s - loss: 0.0645 - accuracy: 0.9820 - val_loss: 0.0850 - val_accuracy: 0.9754 - lr: 0.0100 - 5s/epoch - 3ms/step\n",
            "Epoch 17/30\n",
            "1719/1719 - 5s - loss: 0.0603 - accuracy: 0.9833 - val_loss: 0.0828 - val_accuracy: 0.9758 - lr: 0.0100 - 5s/epoch - 3ms/step\n",
            "Epoch 18/30\n",
            "1719/1719 - 6s - loss: 0.0564 - accuracy: 0.9841 - val_loss: 0.0839 - val_accuracy: 0.9758 - lr: 0.0100 - 6s/epoch - 4ms/step\n",
            "Epoch 19/30\n",
            "1719/1719 - 5s - loss: 0.0526 - accuracy: 0.9859 - val_loss: 0.0810 - val_accuracy: 0.9756 - lr: 0.0100 - 5s/epoch - 3ms/step\n",
            "Epoch 20/30\n",
            "1719/1719 - 5s - loss: 0.0492 - accuracy: 0.9868 - val_loss: 0.0780 - val_accuracy: 0.9774 - lr: 0.0100 - 5s/epoch - 3ms/step\n",
            "Epoch 21/30\n",
            "1719/1719 - 5s - loss: 0.0460 - accuracy: 0.9880 - val_loss: 0.0784 - val_accuracy: 0.9760 - lr: 0.0100 - 5s/epoch - 3ms/step\n",
            "Epoch 22/30\n",
            "1719/1719 - 6s - loss: 0.0436 - accuracy: 0.9888 - val_loss: 0.0754 - val_accuracy: 0.9772 - lr: 0.0100 - 6s/epoch - 3ms/step\n",
            "Epoch 23/30\n",
            "1719/1719 - 5s - loss: 0.0410 - accuracy: 0.9892 - val_loss: 0.0746 - val_accuracy: 0.9782 - lr: 0.0100 - 5s/epoch - 3ms/step\n",
            "Epoch 24/30\n",
            "1719/1719 - 6s - loss: 0.0384 - accuracy: 0.9902 - val_loss: 0.0759 - val_accuracy: 0.9772 - lr: 0.0100 - 6s/epoch - 3ms/step\n",
            "Epoch 25/30\n",
            "1719/1719 - 5s - loss: 0.0364 - accuracy: 0.9914 - val_loss: 0.0737 - val_accuracy: 0.9772 - lr: 0.0100 - 5s/epoch - 3ms/step\n",
            "Epoch 26/30\n",
            "1719/1719 - 5s - loss: 0.0344 - accuracy: 0.9916 - val_loss: 0.0726 - val_accuracy: 0.9782 - lr: 0.0100 - 5s/epoch - 3ms/step\n",
            "Epoch 27/30\n",
            "1719/1719 - 5s - loss: 0.0299 - accuracy: 0.9936 - val_loss: 0.0719 - val_accuracy: 0.9780 - lr: 1.0000e-03 - 5s/epoch - 3ms/step\n",
            "Epoch 28/30\n",
            "1719/1719 - 5s - loss: 0.0294 - accuracy: 0.9938 - val_loss: 0.0719 - val_accuracy: 0.9776 - lr: 1.0000e-03 - 5s/epoch - 3ms/step\n",
            "Epoch 29/30\n",
            "1719/1719 - 5s - loss: 0.0292 - accuracy: 0.9939 - val_loss: 0.0716 - val_accuracy: 0.9784 - lr: 1.0000e-03 - 5s/epoch - 3ms/step\n",
            "Epoch 30/30\n",
            "1719/1719 - 5s - loss: 0.0289 - accuracy: 0.9940 - val_loss: 0.0715 - val_accuracy: 0.9780 - lr: 1.0000e-03 - 5s/epoch - 3ms/step\n"
          ]
        }
      ],
      "source": [
        "from keras.callbacks import ReduceLROnPlateau\n",
        "\n",
        "model.set_weights(weights)\n",
        "reducelr_cb = ReduceLROnPlateau(monitor='val_accuracy', factor=0.1, patience=3)\n",
        "history4 = model.fit(X_train, y_train, epochs=30,\n",
        "                    validation_data=(X_valid, y_valid), verbose=2,\n",
        "                    callbacks=[reducelr_cb]);\n"
      ]
    },
    {
      "cell_type": "markdown",
      "metadata": {
        "id": "Q3ga_KZnL7e2"
      },
      "source": [
        "Plotting the learning rate, we see that the learning rate is reduced at least twice, though for this training run, this does not give any significant improvement in the validation accuracy."
      ]
    },
    {
      "cell_type": "code",
      "execution_count": null,
      "metadata": {
        "id": "XiYfNNAq0flu",
        "colab": {
          "base_uri": "https://localhost:8080/",
          "height": 313
        },
        "outputId": "b213697a-c045-43d0-ce87-5e39776b0e87"
      },
      "outputs": [
        {
          "output_type": "display_data",
          "data": {
            "text/plain": [
              "<Figure size 576x504 with 0 Axes>"
            ]
          },
          "metadata": {}
        },
        {
          "output_type": "display_data",
          "data": {
            "text/plain": [
              "<Figure size 432x288 with 2 Axes>"
            ],
            "image/png": "[encoded data removed]"
          },
          "metadata": {
            "needs_background": "light"
          }
        }
      ],
      "source": [
        "plt.figure(figsize=(8,7))\n",
        "\n",
        "fig, axs = plt.subplots(2, 1)\n",
        "axs[0].plot(history.history['val_accuracy'])\n",
        "axs[0].plot(history4.history['val_accuracy'])\n",
        "axs[0].set_ylabel('Validation Accuracy')\n",
        "axs[0].xaxis.set_ticklabels([])\n",
        "\n",
        "axs[0].legend(['No callbacks', 'Callbacks'], loc='lower right')\n",
        "axs[0].grid(True)\n",
        "axs[0].set_title('Evolution of sequential neural network for MNIST');\n",
        "\n",
        "axs[1].plot(history4.history['lr'])\n",
        "axs[1].set_ylabel('Learning Rate')\n",
        "axs[1].set_xlabel('Epochs')\n",
        "axs[1].grid(True);\n"
      ]
    },
    {
      "cell_type": "markdown",
      "metadata": {
        "id": "C7tvM2b25del"
      },
      "source": [
        "## Exercises"
      ]
    },
    {
      "cell_type": "markdown",
      "metadata": {
        "id": "DZYJx1rEeSVT"
      },
      "source": [
        "### Exercise 1 (6 marks)"
      ]
    },
    {
      "cell_type": "markdown",
      "metadata": {
        "id": "o_rojchdeV05"
      },
      "source": [
        "First read the [EarlyStopping Documentation](https://keras.io/api/callbacks/early_stopping/).\n",
        "\n",
        "Run the Early Stopping version of the model twice, and use validation accuracy (val_accuracy) as the measure for stopping the model.  Use 40 epochs, a patience value of 5 and the two values for min_delta of 0.001 and 0.01.\n",
        "\n",
        "Your final comparison should be the accuracy of the model using the training set.\n",
        "\n",
        "As well as resetting the weights prior to each training run, you will need to reset the learning rate and recompile the model."
      ]
    },
    {
      "cell_type": "code",
      "execution_count": null,
      "metadata": {
        "id": "FA_YvFEOpGPi",
        "colab": {
          "base_uri": "https://localhost:8080/"
        },
        "outputId": "0e09dbbd-e987-4c0f-e417-5b89e3832fd4"
      },
      "outputs": [
        {
          "output_type": "stream",
          "name": "stdout",
          "text": [
            "313/313 [==============================] - 1s 3ms/step - loss: 14.1969 - accuracy: 0.9700\n"
          ]
        },
        {
          "output_type": "execute_result",
          "data": {
            "text/plain": [
              "[14.196884155273438, 0.9700000286102295]"
            ]
          },
          "metadata": {},
          "execution_count": 59
        }
      ],
      "source": [
        "model.set_weights(weights)\n",
        "opt = SGD()\n",
        "model.compile(loss='sparse_categorical_crossentropy', optimizer=opt, metrics=[\"accuracy\"])\n",
        "early_stopping_cb = EarlyStopping(patience=5, monitor=\"val_accuracy\",\n",
        "                                  min_delta=0.001,\n",
        "                                  restore_best_weights=True)\n",
        "model.fit(X_train, y_train, epochs=40,\n",
        "                    validation_data=(X_valid, y_valid), verbose=0,\n",
        "                    callbacks=[early_stopping_cb]);\n",
        "\n",
        "model.evaluate(X_test, y_test)"
      ]
    },
    {
      "cell_type": "code",
      "execution_count": null,
      "metadata": {
        "id": "ZCJjAQqlpGPi",
        "colab": {
          "base_uri": "https://localhost:8080/"
        },
        "outputId": "9388b70e-abc1-4a7a-cf7a-9631bfff1f17"
      },
      "outputs": [
        {
          "output_type": "stream",
          "name": "stdout",
          "text": [
            "313/313 [==============================] - 1s 3ms/step - loss: 16.3389 - accuracy: 0.9646\n"
          ]
        },
        {
          "output_type": "execute_result",
          "data": {
            "text/plain": [
              "[16.338943481445312, 0.9646000266075134]"
            ]
          },
          "metadata": {},
          "execution_count": 60
        }
      ],
      "source": [
        "model.set_weights(weights)\n",
        "opt = SGD()\n",
        "model.compile(loss='sparse_categorical_crossentropy', optimizer=opt, metrics=[\"accuracy\"])\n",
        "early_stopping_cb = EarlyStopping(patience=5, monitor=\"val_accuracy\",\n",
        "                                  min_delta=0.01,\n",
        "                                  restore_best_weights=True)\n",
        "model.fit(X_train, y_train, epochs=40,\n",
        "                    validation_data=(X_valid, y_valid), verbose=0,\n",
        "                    callbacks=[early_stopping_cb]);\n",
        "\n",
        "model.evaluate(X_test, y_test)"
      ]
    },
    {
      "cell_type": "markdown",
      "metadata": {
        "id": "3ouUgQhdq4ge"
      },
      "source": [
        "### Exercise 2 (4 marks)"
      ]
    },
    {
      "cell_type": "markdown",
      "metadata": {
        "id": "U45lj5xAq7LC"
      },
      "source": [
        "First read the [ReduceLROnPlateau Documentation](https://keras.io/api/callbacks/reduce_lr_on_plateau/).\n",
        "\n",
        "Run the ReduceLROnPlateau version of the model, but use validation loss (val_loss) as the measure for stopping the model.  Use 50 epochs, a patience value of 4, reduce the learning rate by a factor of 2 once learning stagnates and set a minimum learning rate of 0.001.\n",
        "\n",
        "Plot the change in learning rate."
      ]
    },
    {
      "cell_type": "code",
      "execution_count": null,
      "metadata": {
        "id": "mS_cRJXUpMZF"
      },
      "outputs": [],
      "source": [
        "model.set_weights(weights)\n",
        "opt = SGD()\n",
        "model.compile(loss='sparse_categorical_crossentropy', optimizer=opt, metrics=[\"accuracy\"])\n",
        "reducelr_cb = ReduceLROnPlateau(monitor='val_loss', factor=0.5, patience=4,\n",
        "                                min_lr=0.001)\n",
        "history4 = model.fit(X_train, y_train, epochs=50,\n",
        "                    validation_data=(X_valid, y_valid), verbose=0,\n",
        "                    callbacks=[reducelr_cb]);"
      ]
    },
    {
      "cell_type": "code",
      "execution_count": null,
      "metadata": {
        "id": "U9j9s8ZIpMZG",
        "colab": {
          "base_uri": "https://localhost:8080/",
          "height": 279
        },
        "outputId": "3a12b7a0-54a9-4d35-e700-4d01c7540fd3"
      },
      "outputs": [
        {
          "output_type": "display_data",
          "data": {
            "text/plain": [
              "<Figure size 576x288 with 1 Axes>"
            ],
            "image/png": "[encoded data removed]"
          },
          "metadata": {
            "needs_background": "light"
          }
        }
      ],
      "source": [
        "plt.figure(figsize=(8,4))\n",
        "\n",
        "plt.plot(history4.history['lr'])\n",
        "plt.ylabel('Learning Rate')\n",
        "plt.xlabel('Epochs')\n",
        "plt.grid(True);"
      ]
    }
  ],
  "metadata": {
    "colab": {
      "provenance": [],
      "include_colab_link": true
    },
    "kernelspec": {
      "display_name": "Python 3",
      "language": "python",
      "name": "python3"
    },
    "language_info": {
      "codemirror_mode": {
        "name": "ipython",
        "version": 3
      },
      "file_extension": ".py",
      "mimetype": "text/x-python",
      "name": "python",
      "nbconvert_exporter": "python",
      "pygments_lexer": "ipython3",
      "version": "3.7.4"
    }
  },
  "nbformat": 4,
  "nbformat_minor": 0
}